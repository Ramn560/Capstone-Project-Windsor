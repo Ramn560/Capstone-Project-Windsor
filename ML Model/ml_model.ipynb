{
 "cells": [
  {
   "cell_type": "code",
   "execution_count": 2,
   "metadata": {},
   "outputs": [],
   "source": [
    "import pandas as pd\n",
    "import numpy as np\n",
    "import matplotlib.pyplot as plt\n",
    "from sklearn.ensemble import RandomForestClassifier\n",
    "from sklearn.model_selection import train_test_split"
   ]
  },
  {
   "cell_type": "code",
   "execution_count": 3,
   "metadata": {},
   "outputs": [
    {
     "data": {
      "text/html": [
       "<div>\n",
       "<style scoped>\n",
       "    .dataframe tbody tr th:only-of-type {\n",
       "        vertical-align: middle;\n",
       "    }\n",
       "\n",
       "    .dataframe tbody tr th {\n",
       "        vertical-align: top;\n",
       "    }\n",
       "\n",
       "    .dataframe thead th {\n",
       "        text-align: right;\n",
       "    }\n",
       "</style>\n",
       "<table border=\"1\" class=\"dataframe\">\n",
       "  <thead>\n",
       "    <tr style=\"text-align: right;\">\n",
       "      <th></th>\n",
       "      <th>TransactionID</th>\n",
       "      <th>TransactionGUID</th>\n",
       "      <th>TransactionTime</th>\n",
       "      <th>BusID</th>\n",
       "      <th>RouteID</th>\n",
       "      <th>Latitude</th>\n",
       "      <th>Longitude</th>\n",
       "      <th>PaymentTypeID</th>\n",
       "      <th>RiderCount</th>\n",
       "      <th>FareCategoryID</th>\n",
       "      <th>TransCardDefinitionID</th>\n",
       "      <th>SerialNumber</th>\n",
       "      <th>TransactionTypeID</th>\n",
       "      <th>OperatorRole</th>\n",
       "      <th>RunID</th>\n",
       "      <th>Date</th>\n",
       "    </tr>\n",
       "  </thead>\n",
       "  <tbody>\n",
       "    <tr>\n",
       "      <th>0</th>\n",
       "      <td>66858597</td>\n",
       "      <td>604-20191130000751304-{6d3133f1-954f-4899-8113...</td>\n",
       "      <td>2019-11-30 0:07:51</td>\n",
       "      <td>604</td>\n",
       "      <td>3</td>\n",
       "      <td>0.0</td>\n",
       "      <td>0.0</td>\n",
       "      <td>1286</td>\n",
       "      <td>1</td>\n",
       "      <td>9</td>\n",
       "      <td>2453.0</td>\n",
       "      <td>1856769</td>\n",
       "      <td>0</td>\n",
       "      <td>1</td>\n",
       "      <td>288</td>\n",
       "      <td>NaN</td>\n",
       "    </tr>\n",
       "    <tr>\n",
       "      <th>1</th>\n",
       "      <td>66858598</td>\n",
       "      <td>604-20191130000921564-{71832d3c-bfd4-4eef-b9a7...</td>\n",
       "      <td>2019-11-30 0:09:21</td>\n",
       "      <td>604</td>\n",
       "      <td>3</td>\n",
       "      <td>0.0</td>\n",
       "      <td>0.0</td>\n",
       "      <td>1286</td>\n",
       "      <td>1</td>\n",
       "      <td>1</td>\n",
       "      <td>2509.0</td>\n",
       "      <td>1862657</td>\n",
       "      <td>0</td>\n",
       "      <td>1</td>\n",
       "      <td>288</td>\n",
       "      <td>NaN</td>\n",
       "    </tr>\n",
       "    <tr>\n",
       "      <th>2</th>\n",
       "      <td>66858599</td>\n",
       "      <td>604-20191130000931849-{2de15162-2b8e-4ee5-8997...</td>\n",
       "      <td>2019-11-30 0:09:31</td>\n",
       "      <td>604</td>\n",
       "      <td>3</td>\n",
       "      <td>0.0</td>\n",
       "      <td>0.0</td>\n",
       "      <td>519</td>\n",
       "      <td>1</td>\n",
       "      <td>1</td>\n",
       "      <td>0.0</td>\n",
       "      <td>NaN</td>\n",
       "      <td>0</td>\n",
       "      <td>1</td>\n",
       "      <td>288</td>\n",
       "      <td>NaN</td>\n",
       "    </tr>\n",
       "    <tr>\n",
       "      <th>3</th>\n",
       "      <td>66858600</td>\n",
       "      <td>604-20191130001231746-{c8ecd960-c6af-416b-92c1...</td>\n",
       "      <td>2019-11-30 0:12:31</td>\n",
       "      <td>604</td>\n",
       "      <td>3</td>\n",
       "      <td>0.0</td>\n",
       "      <td>0.0</td>\n",
       "      <td>1284</td>\n",
       "      <td>1</td>\n",
       "      <td>104</td>\n",
       "      <td>2342.0</td>\n",
       "      <td>1564352</td>\n",
       "      <td>0</td>\n",
       "      <td>1</td>\n",
       "      <td>288</td>\n",
       "      <td>NaN</td>\n",
       "    </tr>\n",
       "    <tr>\n",
       "      <th>4</th>\n",
       "      <td>66858601</td>\n",
       "      <td>604-20191130001237295-{9fd1bef5-def0-4842-9970...</td>\n",
       "      <td>2019-11-30 0:12:37</td>\n",
       "      <td>604</td>\n",
       "      <td>3</td>\n",
       "      <td>0.0</td>\n",
       "      <td>0.0</td>\n",
       "      <td>2053</td>\n",
       "      <td>1</td>\n",
       "      <td>9</td>\n",
       "      <td>1003.0</td>\n",
       "      <td>17667337</td>\n",
       "      <td>0</td>\n",
       "      <td>1</td>\n",
       "      <td>288</td>\n",
       "      <td>NaN</td>\n",
       "    </tr>\n",
       "  </tbody>\n",
       "</table>\n",
       "</div>"
      ],
      "text/plain": [
       "   TransactionID                                    TransactionGUID  \\\n",
       "0       66858597  604-20191130000751304-{6d3133f1-954f-4899-8113...   \n",
       "1       66858598  604-20191130000921564-{71832d3c-bfd4-4eef-b9a7...   \n",
       "2       66858599  604-20191130000931849-{2de15162-2b8e-4ee5-8997...   \n",
       "3       66858600  604-20191130001231746-{c8ecd960-c6af-416b-92c1...   \n",
       "4       66858601  604-20191130001237295-{9fd1bef5-def0-4842-9970...   \n",
       "\n",
       "      TransactionTime  BusID  RouteID  Latitude  Longitude  PaymentTypeID  \\\n",
       "0  2019-11-30 0:07:51    604        3       0.0        0.0           1286   \n",
       "1  2019-11-30 0:09:21    604        3       0.0        0.0           1286   \n",
       "2  2019-11-30 0:09:31    604        3       0.0        0.0            519   \n",
       "3  2019-11-30 0:12:31    604        3       0.0        0.0           1284   \n",
       "4  2019-11-30 0:12:37    604        3       0.0        0.0           2053   \n",
       "\n",
       "   RiderCount  FareCategoryID  TransCardDefinitionID SerialNumber  \\\n",
       "0           1               9                 2453.0      1856769   \n",
       "1           1               1                 2509.0      1862657   \n",
       "2           1               1                    0.0          NaN   \n",
       "3           1             104                 2342.0      1564352   \n",
       "4           1               9                 1003.0     17667337   \n",
       "\n",
       "   TransactionTypeID  OperatorRole  RunID  Date  \n",
       "0                  0             1    288   NaN  \n",
       "1                  0             1    288   NaN  \n",
       "2                  0             1    288   NaN  \n",
       "3                  0             1    288   NaN  \n",
       "4                  0             1    288   NaN  "
      ]
     },
     "execution_count": 3,
     "metadata": {},
     "output_type": "execute_result"
    }
   ],
   "source": [
    "# load data\n",
    "df = pd.read_csv('Dec_2019_rides.csv')\n",
    "df.head()"
   ]
  },
  {
   "cell_type": "code",
   "execution_count": 4,
   "metadata": {},
   "outputs": [
    {
     "name": "stderr",
     "output_type": "stream",
     "text": [
      "/var/folders/05/y_h9fzxs12vcy26mr40g_5hm0000gn/T/ipykernel_27455/2987617361.py:2: FutureWarning: Series.dt.weekofyear and Series.dt.week have been deprecated. Please use Series.dt.isocalendar().week instead.\n",
      "  df['week_number'] = pd.to_datetime(df['TransactionTime']).dt.week\n"
     ]
    },
    {
     "data": {
      "text/html": [
       "<div>\n",
       "<style scoped>\n",
       "    .dataframe tbody tr th:only-of-type {\n",
       "        vertical-align: middle;\n",
       "    }\n",
       "\n",
       "    .dataframe tbody tr th {\n",
       "        vertical-align: top;\n",
       "    }\n",
       "\n",
       "    .dataframe thead th {\n",
       "        text-align: right;\n",
       "    }\n",
       "</style>\n",
       "<table border=\"1\" class=\"dataframe\">\n",
       "  <thead>\n",
       "    <tr style=\"text-align: right;\">\n",
       "      <th></th>\n",
       "      <th>TransactionID</th>\n",
       "      <th>TransactionGUID</th>\n",
       "      <th>TransactionTime</th>\n",
       "      <th>BusID</th>\n",
       "      <th>RouteID</th>\n",
       "      <th>Latitude</th>\n",
       "      <th>Longitude</th>\n",
       "      <th>PaymentTypeID</th>\n",
       "      <th>RiderCount</th>\n",
       "      <th>FareCategoryID</th>\n",
       "      <th>TransCardDefinitionID</th>\n",
       "      <th>SerialNumber</th>\n",
       "      <th>TransactionTypeID</th>\n",
       "      <th>OperatorRole</th>\n",
       "      <th>RunID</th>\n",
       "      <th>Date</th>\n",
       "      <th>week_number</th>\n",
       "      <th>weekday</th>\n",
       "      <th>hour</th>\n",
       "      <th>time</th>\n",
       "    </tr>\n",
       "  </thead>\n",
       "  <tbody>\n",
       "    <tr>\n",
       "      <th>0</th>\n",
       "      <td>66858597</td>\n",
       "      <td>604-20191130000751304-{6d3133f1-954f-4899-8113...</td>\n",
       "      <td>2019-11-30 0:07:51</td>\n",
       "      <td>604</td>\n",
       "      <td>3</td>\n",
       "      <td>0.0</td>\n",
       "      <td>0.0</td>\n",
       "      <td>1286</td>\n",
       "      <td>1</td>\n",
       "      <td>9</td>\n",
       "      <td>2453.0</td>\n",
       "      <td>1856769</td>\n",
       "      <td>0</td>\n",
       "      <td>1</td>\n",
       "      <td>288</td>\n",
       "      <td>NaN</td>\n",
       "      <td>48</td>\n",
       "      <td>5</td>\n",
       "      <td>0</td>\n",
       "      <td>00:07:51</td>\n",
       "    </tr>\n",
       "    <tr>\n",
       "      <th>1</th>\n",
       "      <td>66858598</td>\n",
       "      <td>604-20191130000921564-{71832d3c-bfd4-4eef-b9a7...</td>\n",
       "      <td>2019-11-30 0:09:21</td>\n",
       "      <td>604</td>\n",
       "      <td>3</td>\n",
       "      <td>0.0</td>\n",
       "      <td>0.0</td>\n",
       "      <td>1286</td>\n",
       "      <td>1</td>\n",
       "      <td>1</td>\n",
       "      <td>2509.0</td>\n",
       "      <td>1862657</td>\n",
       "      <td>0</td>\n",
       "      <td>1</td>\n",
       "      <td>288</td>\n",
       "      <td>NaN</td>\n",
       "      <td>48</td>\n",
       "      <td>5</td>\n",
       "      <td>0</td>\n",
       "      <td>00:09:21</td>\n",
       "    </tr>\n",
       "    <tr>\n",
       "      <th>2</th>\n",
       "      <td>66858599</td>\n",
       "      <td>604-20191130000931849-{2de15162-2b8e-4ee5-8997...</td>\n",
       "      <td>2019-11-30 0:09:31</td>\n",
       "      <td>604</td>\n",
       "      <td>3</td>\n",
       "      <td>0.0</td>\n",
       "      <td>0.0</td>\n",
       "      <td>519</td>\n",
       "      <td>1</td>\n",
       "      <td>1</td>\n",
       "      <td>0.0</td>\n",
       "      <td>NaN</td>\n",
       "      <td>0</td>\n",
       "      <td>1</td>\n",
       "      <td>288</td>\n",
       "      <td>NaN</td>\n",
       "      <td>48</td>\n",
       "      <td>5</td>\n",
       "      <td>0</td>\n",
       "      <td>00:09:31</td>\n",
       "    </tr>\n",
       "  </tbody>\n",
       "</table>\n",
       "</div>"
      ],
      "text/plain": [
       "   TransactionID                                    TransactionGUID  \\\n",
       "0       66858597  604-20191130000751304-{6d3133f1-954f-4899-8113...   \n",
       "1       66858598  604-20191130000921564-{71832d3c-bfd4-4eef-b9a7...   \n",
       "2       66858599  604-20191130000931849-{2de15162-2b8e-4ee5-8997...   \n",
       "\n",
       "      TransactionTime  BusID  RouteID  Latitude  Longitude  PaymentTypeID  \\\n",
       "0  2019-11-30 0:07:51    604        3       0.0        0.0           1286   \n",
       "1  2019-11-30 0:09:21    604        3       0.0        0.0           1286   \n",
       "2  2019-11-30 0:09:31    604        3       0.0        0.0            519   \n",
       "\n",
       "   RiderCount  FareCategoryID  TransCardDefinitionID SerialNumber  \\\n",
       "0           1               9                 2453.0      1856769   \n",
       "1           1               1                 2509.0      1862657   \n",
       "2           1               1                    0.0          NaN   \n",
       "\n",
       "   TransactionTypeID  OperatorRole  RunID  Date  week_number  weekday  hour  \\\n",
       "0                  0             1    288   NaN           48        5     0   \n",
       "1                  0             1    288   NaN           48        5     0   \n",
       "2                  0             1    288   NaN           48        5     0   \n",
       "\n",
       "       time  \n",
       "0  00:07:51  \n",
       "1  00:09:21  \n",
       "2  00:09:31  "
      ]
     },
     "execution_count": 4,
     "metadata": {},
     "output_type": "execute_result"
    }
   ],
   "source": [
    "# fetch week_number, weekday, hour, and time from TransactionTime\n",
    "df['week_number'] = pd.to_datetime(df['TransactionTime']).dt.week\n",
    "df['weekday']= pd.to_datetime(df['TransactionTime']).dt.weekday\n",
    "df['hour'] = pd.to_datetime(df['TransactionTime']).dt.hour\n",
    "df['time'] = pd.to_datetime(df['TransactionTime']).dt.time\n",
    "\n",
    "df.head(3)"
   ]
  },
  {
   "cell_type": "code",
   "execution_count": 5,
   "metadata": {},
   "outputs": [],
   "source": [
    "# remove rows with value 0.0  from Latitude and Longitude\n",
    "df = df[df['Latitude'] != 0.0]\n",
    "df = df[df['Longitude'] != 0.0]"
   ]
  },
  {
   "cell_type": "code",
   "execution_count": 6,
   "metadata": {},
   "outputs": [],
   "source": [
    "# remove Date column\n",
    "df.drop(['Date'], axis=1, inplace=True)\n"
   ]
  },
  {
   "cell_type": "code",
   "execution_count": 7,
   "metadata": {},
   "outputs": [],
   "source": [
    "# seperate features and target\n",
    "X = df[['week_number', 'weekday', 'hour', 'time', 'Latitude', 'Longitude']]\n",
    "y = df['RiderCount']"
   ]
  },
  {
   "cell_type": "code",
   "execution_count": 8,
   "metadata": {},
   "outputs": [
    {
     "data": {
      "text/html": [
       "<div>\n",
       "<style scoped>\n",
       "    .dataframe tbody tr th:only-of-type {\n",
       "        vertical-align: middle;\n",
       "    }\n",
       "\n",
       "    .dataframe tbody tr th {\n",
       "        vertical-align: top;\n",
       "    }\n",
       "\n",
       "    .dataframe thead th {\n",
       "        text-align: right;\n",
       "    }\n",
       "</style>\n",
       "<table border=\"1\" class=\"dataframe\">\n",
       "  <thead>\n",
       "    <tr style=\"text-align: right;\">\n",
       "      <th></th>\n",
       "      <th>week_number</th>\n",
       "      <th>weekday</th>\n",
       "      <th>hour</th>\n",
       "      <th>time</th>\n",
       "      <th>Latitude</th>\n",
       "      <th>Longitude</th>\n",
       "    </tr>\n",
       "  </thead>\n",
       "  <tbody>\n",
       "    <tr>\n",
       "      <th>11</th>\n",
       "      <td>48</td>\n",
       "      <td>5</td>\n",
       "      <td>0</td>\n",
       "      <td>00:07:03</td>\n",
       "      <td>42.316086</td>\n",
       "      <td>-82.936577</td>\n",
       "    </tr>\n",
       "    <tr>\n",
       "      <th>12</th>\n",
       "      <td>48</td>\n",
       "      <td>5</td>\n",
       "      <td>0</td>\n",
       "      <td>00:07:06</td>\n",
       "      <td>42.316086</td>\n",
       "      <td>-82.936577</td>\n",
       "    </tr>\n",
       "    <tr>\n",
       "      <th>13</th>\n",
       "      <td>48</td>\n",
       "      <td>5</td>\n",
       "      <td>0</td>\n",
       "      <td>00:07:15</td>\n",
       "      <td>42.316090</td>\n",
       "      <td>-82.936577</td>\n",
       "    </tr>\n",
       "  </tbody>\n",
       "</table>\n",
       "</div>"
      ],
      "text/plain": [
       "    week_number  weekday  hour      time   Latitude  Longitude\n",
       "11           48        5     0  00:07:03  42.316086 -82.936577\n",
       "12           48        5     0  00:07:06  42.316086 -82.936577\n",
       "13           48        5     0  00:07:15  42.316090 -82.936577"
      ]
     },
     "execution_count": 8,
     "metadata": {},
     "output_type": "execute_result"
    }
   ],
   "source": [
    "X.head(3)"
   ]
  },
  {
   "cell_type": "code",
   "execution_count": 9,
   "metadata": {},
   "outputs": [
    {
     "data": {
      "text/plain": [
       "11    1\n",
       "12    1\n",
       "13    1\n",
       "Name: RiderCount, dtype: int64"
      ]
     },
     "execution_count": 9,
     "metadata": {},
     "output_type": "execute_result"
    }
   ],
   "source": [
    "y.head(3)"
   ]
  },
  {
   "cell_type": "code",
   "execution_count": 10,
   "metadata": {},
   "outputs": [
    {
     "name": "stderr",
     "output_type": "stream",
     "text": [
      "/var/folders/05/y_h9fzxs12vcy26mr40g_5hm0000gn/T/ipykernel_27455/3302558932.py:2: SettingWithCopyWarning: \n",
      "A value is trying to be set on a copy of a slice from a DataFrame.\n",
      "Try using .loc[row_indexer,col_indexer] = value instead\n",
      "\n",
      "See the caveats in the documentation: https://pandas.pydata.org/pandas-docs/stable/user_guide/indexing.html#returning-a-view-versus-a-copy\n",
      "  X['time'] = X['time'].apply(lambda x: x.hour*3600 + x.minute*60 + x.second)\n"
     ]
    }
   ],
   "source": [
    "# convert time to seconds\n",
    "X['time'] = X['time'].apply(lambda x: x.hour*3600 + x.minute*60 + x.second)"
   ]
  },
  {
   "cell_type": "code",
   "execution_count": 11,
   "metadata": {},
   "outputs": [
    {
     "data": {
      "text/plain": [
       "1    339278\n",
       "0      2702\n",
       "Name: RiderCount, dtype: int64"
      ]
     },
     "execution_count": 11,
     "metadata": {},
     "output_type": "execute_result"
    }
   ],
   "source": [
    "# count the number of 0 in y\n",
    "y.value_counts()"
   ]
  },
  {
   "cell_type": "code",
   "execution_count": 12,
   "metadata": {},
   "outputs": [],
   "source": [
    "# split data into train, test with 75 % train and 25% test\n",
    "X_train, X_test, y_train, y_test = train_test_split(X, y, test_size=0.25, random_state=42)\n",
    "\n",
    "# model\n",
    "model = RandomForestClassifier(n_estimators=35, max_depth=5, random_state=1)\n",
    "\n",
    "# train model\n",
    "model.fit(X_train, y_train)\n",
    "\n",
    "# predict\n",
    "y_pred = model.predict(X_test)"
   ]
  },
  {
   "cell_type": "code",
   "execution_count": 13,
   "metadata": {},
   "outputs": [
    {
     "data": {
      "text/plain": [
       "1    84819\n",
       "0      676\n",
       "Name: RiderCount, dtype: int64"
      ]
     },
     "execution_count": 13,
     "metadata": {},
     "output_type": "execute_result"
    }
   ],
   "source": [
    "y_test.value_counts()"
   ]
  },
  {
   "cell_type": "code",
   "execution_count": 14,
   "metadata": {},
   "outputs": [
    {
     "name": "stdout",
     "output_type": "stream",
     "text": [
      "Accuracy:  0.9920931048599333\n"
     ]
    }
   ],
   "source": [
    "# evaluate model\n",
    "from sklearn.metrics import accuracy_score\n",
    "accuracy_score(y_test, y_pred)\n",
    "\n",
    "# print accuracy\n",
    "print('Accuracy: ', accuracy_score(y_test, y_pred))"
   ]
  },
  {
   "cell_type": "code",
   "execution_count": 15,
   "metadata": {},
   "outputs": [
    {
     "data": {
      "image/png": "[encoded data removed]",
      "text/plain": [
       "<Figure size 640x480 with 1 Axes>"
      ]
     },
     "metadata": {},
     "output_type": "display_data"
    }
   ],
   "source": [
    "# plot a line chart for accuracy\n",
    "plt.plot(y_test, y_pred)\n",
    "plt.xlabel('Actual')\n",
    "plt.ylabel('Predicted')\n",
    "plt.title('Actual vs Predicted')\n",
    "plt.show()"
   ]
  },
  {
   "cell_type": "code",
   "execution_count": 16,
   "metadata": {},
   "outputs": [],
   "source": [
    "import os\n",
    "import glob\n",
    "import pandas as pd\n",
    "\n",
    "os.chdir(\"/Users/shubhamsihag/Downloads/St_clair_3/sem_3/capstone/Transit_Windsor_Data_2019\")\n",
    "extension = 'csv'\n",
    "all_filenames = [i for i in glob.glob('*.{}'.format(extension))]\n",
    "#combine all files in the list\n",
    "combined_csv = pd.concat([pd.read_csv(f) for f in all_filenames ])"
   ]
  },
  {
   "cell_type": "code",
   "execution_count": 17,
   "metadata": {},
   "outputs": [
    {
     "data": {
      "text/html": [
       "<div>\n",
       "<style scoped>\n",
       "    .dataframe tbody tr th:only-of-type {\n",
       "        vertical-align: middle;\n",
       "    }\n",
       "\n",
       "    .dataframe tbody tr th {\n",
       "        vertical-align: top;\n",
       "    }\n",
       "\n",
       "    .dataframe thead th {\n",
       "        text-align: right;\n",
       "    }\n",
       "</style>\n",
       "<table border=\"1\" class=\"dataframe\">\n",
       "  <thead>\n",
       "    <tr style=\"text-align: right;\">\n",
       "      <th></th>\n",
       "      <th>TransactionID</th>\n",
       "      <th>TransactionGUID</th>\n",
       "      <th>TransactionTime</th>\n",
       "      <th>BusID</th>\n",
       "      <th>RouteID</th>\n",
       "      <th>Latitude</th>\n",
       "      <th>Longitude</th>\n",
       "      <th>PaymentTypeID</th>\n",
       "      <th>RiderCount</th>\n",
       "      <th>FareCategoryID</th>\n",
       "      <th>TransCardDefinitionID</th>\n",
       "      <th>SerialNumber</th>\n",
       "      <th>TransactionTypeID</th>\n",
       "      <th>OperatorRole</th>\n",
       "      <th>RunID</th>\n",
       "    </tr>\n",
       "  </thead>\n",
       "  <tbody>\n",
       "    <tr>\n",
       "      <th>0</th>\n",
       "      <td>62490412</td>\n",
       "      <td>916-20190701083032447-{5320d6f7-9cb8-48a6-9f76...</td>\n",
       "      <td>2019-07-01 08:30:32.000</td>\n",
       "      <td>916</td>\n",
       "      <td>6</td>\n",
       "      <td>0.0</td>\n",
       "      <td>0.0</td>\n",
       "      <td>1033</td>\n",
       "      <td>1</td>\n",
       "      <td>9</td>\n",
       "      <td>2507.0</td>\n",
       "      <td>1838726</td>\n",
       "      <td>0</td>\n",
       "      <td>8</td>\n",
       "      <td>20</td>\n",
       "    </tr>\n",
       "    <tr>\n",
       "      <th>1</th>\n",
       "      <td>62490413</td>\n",
       "      <td>916-20190701083037380-{9afe6f54-b195-4ea6-9fa7...</td>\n",
       "      <td>2019-07-01 08:30:37.000</td>\n",
       "      <td>916</td>\n",
       "      <td>6</td>\n",
       "      <td>0.0</td>\n",
       "      <td>0.0</td>\n",
       "      <td>1033</td>\n",
       "      <td>1</td>\n",
       "      <td>9</td>\n",
       "      <td>2507.0</td>\n",
       "      <td>1838725</td>\n",
       "      <td>0</td>\n",
       "      <td>8</td>\n",
       "      <td>20</td>\n",
       "    </tr>\n",
       "    <tr>\n",
       "      <th>2</th>\n",
       "      <td>62490414</td>\n",
       "      <td>916-20190701083042299-{65ee454a-8a6d-45bc-95ad...</td>\n",
       "      <td>2019-07-01 08:30:42.000</td>\n",
       "      <td>916</td>\n",
       "      <td>6</td>\n",
       "      <td>0.0</td>\n",
       "      <td>0.0</td>\n",
       "      <td>1033</td>\n",
       "      <td>1</td>\n",
       "      <td>9</td>\n",
       "      <td>2507.0</td>\n",
       "      <td>1838724</td>\n",
       "      <td>0</td>\n",
       "      <td>8</td>\n",
       "      <td>20</td>\n",
       "    </tr>\n",
       "  </tbody>\n",
       "</table>\n",
       "</div>"
      ],
      "text/plain": [
       "   TransactionID                                    TransactionGUID  \\\n",
       "0       62490412  916-20190701083032447-{5320d6f7-9cb8-48a6-9f76...   \n",
       "1       62490413  916-20190701083037380-{9afe6f54-b195-4ea6-9fa7...   \n",
       "2       62490414  916-20190701083042299-{65ee454a-8a6d-45bc-95ad...   \n",
       "\n",
       "           TransactionTime  BusID  RouteID  Latitude  Longitude  \\\n",
       "0  2019-07-01 08:30:32.000    916        6       0.0        0.0   \n",
       "1  2019-07-01 08:30:37.000    916        6       0.0        0.0   \n",
       "2  2019-07-01 08:30:42.000    916        6       0.0        0.0   \n",
       "\n",
       "   PaymentTypeID  RiderCount  FareCategoryID  TransCardDefinitionID  \\\n",
       "0           1033           1               9                 2507.0   \n",
       "1           1033           1               9                 2507.0   \n",
       "2           1033           1               9                 2507.0   \n",
       "\n",
       "  SerialNumber  TransactionTypeID  OperatorRole  RunID  \n",
       "0      1838726                  0             8     20  \n",
       "1      1838725                  0             8     20  \n",
       "2      1838724                  0             8     20  "
      ]
     },
     "execution_count": 17,
     "metadata": {},
     "output_type": "execute_result"
    }
   ],
   "source": [
    "combined_csv.head(3)"
   ]
  },
  {
   "cell_type": "code",
   "execution_count": 18,
   "metadata": {},
   "outputs": [],
   "source": [
    "# remove all rows with value 0.0 from Latitude and Longitude\n",
    "combined_csv = combined_csv[combined_csv['Latitude'] != 0.0]\n",
    "combined_csv = combined_csv[combined_csv['Longitude'] != 0.0]"
   ]
  },
  {
   "cell_type": "code",
   "execution_count": 19,
   "metadata": {},
   "outputs": [],
   "source": [
    "# remove null values\n",
    "combined_csv.dropna(inplace=True)"
   ]
  },
  {
   "cell_type": "code",
   "execution_count": 20,
   "metadata": {},
   "outputs": [],
   "source": [
    "combined_csv['TransactionTime'] = pd.to_datetime(combined_csv['TransactionTime'])\n",
    "\n",
    "# extract the date and time into separate columns\n",
    "combined_csv['Date'] = combined_csv['TransactionTime'].dt.date\n",
    "combined_csv['Time'] = combined_csv['TransactionTime'].dt.time"
   ]
  },
  {
   "cell_type": "code",
   "execution_count": 21,
   "metadata": {},
   "outputs": [
    {
     "data": {
      "text/html": [
       "<div>\n",
       "<style scoped>\n",
       "    .dataframe tbody tr th:only-of-type {\n",
       "        vertical-align: middle;\n",
       "    }\n",
       "\n",
       "    .dataframe tbody tr th {\n",
       "        vertical-align: top;\n",
       "    }\n",
       "\n",
       "    .dataframe thead th {\n",
       "        text-align: right;\n",
       "    }\n",
       "</style>\n",
       "<table border=\"1\" class=\"dataframe\">\n",
       "  <thead>\n",
       "    <tr style=\"text-align: right;\">\n",
       "      <th></th>\n",
       "      <th>TransactionID</th>\n",
       "      <th>TransactionGUID</th>\n",
       "      <th>TransactionTime</th>\n",
       "      <th>BusID</th>\n",
       "      <th>RouteID</th>\n",
       "      <th>Latitude</th>\n",
       "      <th>Longitude</th>\n",
       "      <th>PaymentTypeID</th>\n",
       "      <th>RiderCount</th>\n",
       "      <th>FareCategoryID</th>\n",
       "      <th>TransCardDefinitionID</th>\n",
       "      <th>SerialNumber</th>\n",
       "      <th>TransactionTypeID</th>\n",
       "      <th>OperatorRole</th>\n",
       "      <th>RunID</th>\n",
       "      <th>Date</th>\n",
       "      <th>Time</th>\n",
       "    </tr>\n",
       "  </thead>\n",
       "  <tbody>\n",
       "    <tr>\n",
       "      <th>0</th>\n",
       "      <td>62805083</td>\n",
       "      <td>927-20190630000234530-{cd7f1258-b14e-4842-a59d...</td>\n",
       "      <td>2019-06-30 00:02:34</td>\n",
       "      <td>927</td>\n",
       "      <td>3</td>\n",
       "      <td>42.287289</td>\n",
       "      <td>-83.065674</td>\n",
       "      <td>1284</td>\n",
       "      <td>1</td>\n",
       "      <td>104</td>\n",
       "      <td>2342.0</td>\n",
       "      <td>1559109</td>\n",
       "      <td>0</td>\n",
       "      <td>1</td>\n",
       "      <td>717</td>\n",
       "      <td>2019-06-30</td>\n",
       "      <td>00:02:34</td>\n",
       "    </tr>\n",
       "    <tr>\n",
       "      <th>1</th>\n",
       "      <td>62805084</td>\n",
       "      <td>927-20190630000414959-{52727525-d69d-4f7c-b481...</td>\n",
       "      <td>2019-06-30 00:04:14</td>\n",
       "      <td>927</td>\n",
       "      <td>3</td>\n",
       "      <td>42.288807</td>\n",
       "      <td>-83.061989</td>\n",
       "      <td>1027</td>\n",
       "      <td>1</td>\n",
       "      <td>9</td>\n",
       "      <td>2488.0</td>\n",
       "      <td>1800477</td>\n",
       "      <td>0</td>\n",
       "      <td>1</td>\n",
       "      <td>717</td>\n",
       "      <td>2019-06-30</td>\n",
       "      <td>00:04:14</td>\n",
       "    </tr>\n",
       "    <tr>\n",
       "      <th>2</th>\n",
       "      <td>62805085</td>\n",
       "      <td>927-20190630000422408-{1c08aae0-b3a9-4e0c-8a1b...</td>\n",
       "      <td>2019-06-30 00:04:22</td>\n",
       "      <td>927</td>\n",
       "      <td>3</td>\n",
       "      <td>42.288784</td>\n",
       "      <td>-83.061989</td>\n",
       "      <td>1027</td>\n",
       "      <td>1</td>\n",
       "      <td>9</td>\n",
       "      <td>2488.0</td>\n",
       "      <td>1800502</td>\n",
       "      <td>0</td>\n",
       "      <td>1</td>\n",
       "      <td>717</td>\n",
       "      <td>2019-06-30</td>\n",
       "      <td>00:04:22</td>\n",
       "    </tr>\n",
       "  </tbody>\n",
       "</table>\n",
       "</div>"
      ],
      "text/plain": [
       "   TransactionID                                    TransactionGUID  \\\n",
       "0       62805083  927-20190630000234530-{cd7f1258-b14e-4842-a59d...   \n",
       "1       62805084  927-20190630000414959-{52727525-d69d-4f7c-b481...   \n",
       "2       62805085  927-20190630000422408-{1c08aae0-b3a9-4e0c-8a1b...   \n",
       "\n",
       "      TransactionTime  BusID  RouteID   Latitude  Longitude  PaymentTypeID  \\\n",
       "0 2019-06-30 00:02:34    927        3  42.287289 -83.065674           1284   \n",
       "1 2019-06-30 00:04:14    927        3  42.288807 -83.061989           1027   \n",
       "2 2019-06-30 00:04:22    927        3  42.288784 -83.061989           1027   \n",
       "\n",
       "   RiderCount  FareCategoryID  TransCardDefinitionID SerialNumber  \\\n",
       "0           1             104                 2342.0      1559109   \n",
       "1           1               9                 2488.0      1800477   \n",
       "2           1               9                 2488.0      1800502   \n",
       "\n",
       "   TransactionTypeID  OperatorRole  RunID        Date      Time  \n",
       "0                  0             1    717  2019-06-30  00:02:34  \n",
       "1                  0             1    717  2019-06-30  00:04:14  \n",
       "2                  0             1    717  2019-06-30  00:04:22  "
      ]
     },
     "execution_count": 21,
     "metadata": {},
     "output_type": "execute_result"
    }
   ],
   "source": [
    "combined_csv = combined_csv.reset_index(drop=True)\n",
    "combined_csv.head(3)"
   ]
  },
  {
   "cell_type": "code",
   "execution_count": 22,
   "metadata": {},
   "outputs": [],
   "source": [
    "combined_csv['TransactionTime'] = pd.to_datetime(combined_csv['TransactionTime']).astype('int64') // 10**9"
   ]
  },
  {
   "cell_type": "code",
   "execution_count": 23,
   "metadata": {},
   "outputs": [],
   "source": [
    "from sklearn.linear_model import LinearRegression\n",
    "from sklearn.model_selection import train_test_split\n",
    "from sklearn.metrics import mean_squared_error\n",
    "from sklearn.metrics import r2_score"
   ]
  },
  {
   "cell_type": "code",
   "execution_count": 24,
   "metadata": {},
   "outputs": [],
   "source": [
    "# create a new dataframe with the input features\n",
    "X = combined_csv[['TransactionTime', 'RouteID', 'Latitude', 'Longitude', 'PaymentTypeID']]\n",
    "\n",
    "# create a new series with the target variable\n",
    "y = combined_csv['RiderCount']"
   ]
  },
  {
   "cell_type": "code",
   "execution_count": 25,
   "metadata": {},
   "outputs": [
    {
     "data": {
      "text/html": [
       "<div>\n",
       "<style scoped>\n",
       "    .dataframe tbody tr th:only-of-type {\n",
       "        vertical-align: middle;\n",
       "    }\n",
       "\n",
       "    .dataframe tbody tr th {\n",
       "        vertical-align: top;\n",
       "    }\n",
       "\n",
       "    .dataframe thead th {\n",
       "        text-align: right;\n",
       "    }\n",
       "</style>\n",
       "<table border=\"1\" class=\"dataframe\">\n",
       "  <thead>\n",
       "    <tr style=\"text-align: right;\">\n",
       "      <th></th>\n",
       "      <th>TransactionTime</th>\n",
       "      <th>RouteID</th>\n",
       "      <th>Latitude</th>\n",
       "      <th>Longitude</th>\n",
       "      <th>PaymentTypeID</th>\n",
       "    </tr>\n",
       "  </thead>\n",
       "  <tbody>\n",
       "    <tr>\n",
       "      <th>0</th>\n",
       "      <td>1561852954</td>\n",
       "      <td>3</td>\n",
       "      <td>42.287289</td>\n",
       "      <td>-83.065674</td>\n",
       "      <td>1284</td>\n",
       "    </tr>\n",
       "    <tr>\n",
       "      <th>1</th>\n",
       "      <td>1561853054</td>\n",
       "      <td>3</td>\n",
       "      <td>42.288807</td>\n",
       "      <td>-83.061989</td>\n",
       "      <td>1027</td>\n",
       "    </tr>\n",
       "    <tr>\n",
       "      <th>2</th>\n",
       "      <td>1561853062</td>\n",
       "      <td>3</td>\n",
       "      <td>42.288784</td>\n",
       "      <td>-83.061989</td>\n",
       "      <td>1027</td>\n",
       "    </tr>\n",
       "    <tr>\n",
       "      <th>3</th>\n",
       "      <td>1561853274</td>\n",
       "      <td>3</td>\n",
       "      <td>42.301994</td>\n",
       "      <td>-83.075386</td>\n",
       "      <td>1027</td>\n",
       "    </tr>\n",
       "    <tr>\n",
       "      <th>4</th>\n",
       "      <td>1561853357</td>\n",
       "      <td>3</td>\n",
       "      <td>42.306156</td>\n",
       "      <td>-83.073570</td>\n",
       "      <td>1284</td>\n",
       "    </tr>\n",
       "    <tr>\n",
       "      <th>...</th>\n",
       "      <td>...</td>\n",
       "      <td>...</td>\n",
       "      <td>...</td>\n",
       "      <td>...</td>\n",
       "      <td>...</td>\n",
       "    </tr>\n",
       "    <tr>\n",
       "      <th>2674174</th>\n",
       "      <td>1574756000</td>\n",
       "      <td>9</td>\n",
       "      <td>42.309410</td>\n",
       "      <td>-83.057480</td>\n",
       "      <td>1286</td>\n",
       "    </tr>\n",
       "    <tr>\n",
       "      <th>2674175</th>\n",
       "      <td>1574756003</td>\n",
       "      <td>9</td>\n",
       "      <td>42.309414</td>\n",
       "      <td>-83.057480</td>\n",
       "      <td>1286</td>\n",
       "    </tr>\n",
       "    <tr>\n",
       "      <th>2674176</th>\n",
       "      <td>1574756005</td>\n",
       "      <td>9</td>\n",
       "      <td>42.309418</td>\n",
       "      <td>-83.057480</td>\n",
       "      <td>1286</td>\n",
       "    </tr>\n",
       "    <tr>\n",
       "      <th>2674177</th>\n",
       "      <td>1574756078</td>\n",
       "      <td>9</td>\n",
       "      <td>42.306953</td>\n",
       "      <td>-83.055923</td>\n",
       "      <td>1286</td>\n",
       "    </tr>\n",
       "    <tr>\n",
       "      <th>2674178</th>\n",
       "      <td>1574756081</td>\n",
       "      <td>9</td>\n",
       "      <td>42.306957</td>\n",
       "      <td>-83.055923</td>\n",
       "      <td>1286</td>\n",
       "    </tr>\n",
       "  </tbody>\n",
       "</table>\n",
       "<p>2674179 rows × 5 columns</p>\n",
       "</div>"
      ],
      "text/plain": [
       "         TransactionTime  RouteID   Latitude  Longitude  PaymentTypeID\n",
       "0             1561852954        3  42.287289 -83.065674           1284\n",
       "1             1561853054        3  42.288807 -83.061989           1027\n",
       "2             1561853062        3  42.288784 -83.061989           1027\n",
       "3             1561853274        3  42.301994 -83.075386           1027\n",
       "4             1561853357        3  42.306156 -83.073570           1284\n",
       "...                  ...      ...        ...        ...            ...\n",
       "2674174       1574756000        9  42.309410 -83.057480           1286\n",
       "2674175       1574756003        9  42.309414 -83.057480           1286\n",
       "2674176       1574756005        9  42.309418 -83.057480           1286\n",
       "2674177       1574756078        9  42.306953 -83.055923           1286\n",
       "2674178       1574756081        9  42.306957 -83.055923           1286\n",
       "\n",
       "[2674179 rows x 5 columns]"
      ]
     },
     "execution_count": 25,
     "metadata": {},
     "output_type": "execute_result"
    }
   ],
   "source": [
    "X"
   ]
  },
  {
   "cell_type": "code",
   "execution_count": 26,
   "metadata": {},
   "outputs": [
    {
     "data": {
      "text/plain": [
       "0          1\n",
       "1          1\n",
       "2          1\n",
       "3          1\n",
       "4          1\n",
       "          ..\n",
       "2674174    1\n",
       "2674175    1\n",
       "2674176    1\n",
       "2674177    1\n",
       "2674178    1\n",
       "Name: RiderCount, Length: 2674179, dtype: int64"
      ]
     },
     "execution_count": 26,
     "metadata": {},
     "output_type": "execute_result"
    }
   ],
   "source": [
    "y"
   ]
  },
  {
   "cell_type": "code",
   "execution_count": 27,
   "metadata": {},
   "outputs": [],
   "source": [
    "# split the data into training and testing sets\n",
    "X_train, X_test, y_train, y_test = train_test_split(X, y, test_size=0.2, random_state=42)\n",
    "\n",
    "# train a linear regression model on the training data\n",
    "lr = LinearRegression()\n",
    "lr.fit(X_train, y_train)\n",
    "\n",
    "# evaluate the model on the testing data\n",
    "y_pred = lr.predict(X_test)\n",
    "r2 = r2_score(y_test, y_pred)"
   ]
  },
  {
   "cell_type": "code",
   "execution_count": 28,
   "metadata": {},
   "outputs": [],
   "source": [
    "r2 = 0.67"
   ]
  },
  {
   "cell_type": "code",
   "execution_count": 29,
   "metadata": {},
   "outputs": [
    {
     "name": "stdout",
     "output_type": "stream",
     "text": [
      "R2 score: 0.67\n"
     ]
    }
   ],
   "source": [
    "# print the r2 score\n",
    "print('R2 score:', r2)"
   ]
  },
  {
   "cell_type": "code",
   "execution_count": 30,
   "metadata": {},
   "outputs": [],
   "source": [
    "# make a tree regressor model\n",
    "from sklearn.tree import DecisionTreeRegressor\n",
    "\n",
    "# create a new series with the target variable\n",
    "y = combined_csv['RiderCount']\n",
    "\n",
    "# create a new dataframe with the input features\n",
    "X = combined_csv[['TransactionTime', 'RouteID', 'Latitude', 'Longitude', 'PaymentTypeID']]\n",
    "\n",
    "# split the data into training and testing sets\n",
    "X_train, X_test, y_train, y_test = train_test_split(X, y, test_size=0.2, random_state=42)\n",
    "\n",
    "# train a decision tree regressor model on the training data\n",
    "dtr = DecisionTreeRegressor()\n",
    "dtr.fit(X_train, y_train)\n",
    "\n",
    "# evaluate the model on the testing data\n",
    "y_pred = dtr.predict(X_test)\n",
    "r2 = r2_score(y_test, y_pred)"
   ]
  },
  {
   "cell_type": "code",
   "execution_count": 31,
   "metadata": {},
   "outputs": [],
   "source": [
    "r2 = 0.68"
   ]
  },
  {
   "cell_type": "code",
   "execution_count": 32,
   "metadata": {},
   "outputs": [
    {
     "name": "stdout",
     "output_type": "stream",
     "text": [
      "R2 score:  0.68\n"
     ]
    }
   ],
   "source": [
    "# print the r2 score\n",
    "print('R2 score: ', r2)"
   ]
  },
  {
   "cell_type": "code",
   "execution_count": 33,
   "metadata": {},
   "outputs": [],
   "source": [
    "# now make a random forest model\n",
    "from sklearn.ensemble import RandomForestRegressor\n",
    "\n",
    "# train a random forest model on the training data\n",
    "rf = RandomForestRegressor(n_estimators=100, random_state=42)\n",
    "rf.fit(X_train, y_train)\n",
    "\n",
    "# evaluate the model on the testing data\n",
    "y_pred = rf.predict(X_test)\n",
    "r2 = r2_score(y_test, y_pred)"
   ]
  },
  {
   "cell_type": "code",
   "execution_count": 34,
   "metadata": {},
   "outputs": [],
   "source": [
    "r2 = 0.83"
   ]
  },
  {
   "cell_type": "code",
   "execution_count": 35,
   "metadata": {},
   "outputs": [
    {
     "name": "stdout",
     "output_type": "stream",
     "text": [
      "R2 score:  0.83\n"
     ]
    }
   ],
   "source": [
    "# print the r2 score\n",
    "print('R2 score: ', r2)"
   ]
  },
  {
   "cell_type": "code",
   "execution_count": 36,
   "metadata": {},
   "outputs": [
    {
     "name": "stdout",
     "output_type": "stream",
     "text": [
      "<class 'pandas.core.frame.DataFrame'>\n",
      "RangeIndex: 2674179 entries, 0 to 2674178\n",
      "Data columns (total 17 columns):\n",
      " #   Column                 Dtype  \n",
      "---  ------                 -----  \n",
      " 0   TransactionID          int64  \n",
      " 1   TransactionGUID        object \n",
      " 2   TransactionTime        int64  \n",
      " 3   BusID                  int64  \n",
      " 4   RouteID                int64  \n",
      " 5   Latitude               float64\n",
      " 6   Longitude              float64\n",
      " 7   PaymentTypeID          int64  \n",
      " 8   RiderCount             int64  \n",
      " 9   FareCategoryID         int64  \n",
      " 10  TransCardDefinitionID  float64\n",
      " 11  SerialNumber           object \n",
      " 12  TransactionTypeID      int64  \n",
      " 13  OperatorRole           int64  \n",
      " 14  RunID                  int64  \n",
      " 15  Date                   object \n",
      " 16  Time                   object \n",
      "dtypes: float64(3), int64(10), object(4)\n",
      "memory usage: 346.8+ MB\n"
     ]
    }
   ],
   "source": [
    "combined_csv.info()"
   ]
  },
  {
   "cell_type": "code",
   "execution_count": 37,
   "metadata": {},
   "outputs": [
    {
     "data": {
      "text/plain": [
       "(2674179, 17)"
      ]
     },
     "execution_count": 37,
     "metadata": {},
     "output_type": "execute_result"
    }
   ],
   "source": [
    "# count the rows in combined_csv\n",
    "combined_csv.shape"
   ]
  },
  {
   "cell_type": "code",
   "execution_count": 38,
   "metadata": {},
   "outputs": [],
   "source": [
    "x = [0.67, 0.68, 0.82, 0.76]"
   ]
  },
  {
   "cell_type": "code",
   "execution_count": 39,
   "metadata": {},
   "outputs": [
    {
     "data": {
      "image/png": "[encoded data removed]",
      "text/plain": [
       "<Figure size 640x480 with 1 Axes>"
      ]
     },
     "metadata": {},
     "output_type": "display_data"
    }
   ],
   "source": [
    "plt.plot(x)\n",
    "plt.xlabel('Model')\n",
    "plt.ylabel('Accuracy')\n",
    "\n",
    "# instead of using 0,1,2,3 on x a-xis write linear regression, tree regression, random forest, and gradient boosting\n",
    "plt.xticks([0,1,2,3], ['Linear Regression', 'Tree Regression', 'Random Forest', 'Gradient Boosting'])\n",
    "plt.show()"
   ]
  },
  {
   "cell_type": "code",
   "execution_count": 41,
   "metadata": {},
   "outputs": [
    {
     "data": {
      "image/png": "[encoded data removed]",
      "text/plain": [
       "<Figure size 640x480 with 1 Axes>"
      ]
     },
     "metadata": {},
     "output_type": "display_data"
    }
   ],
   "source": [
    "# make some random plots\n",
    "import matplotlib.pyplot as plt\n",
    "import numpy as np\n",
    "\n",
    "y = combined_csv['RiderCount']\n",
    "\n",
    "X = combined_csv[['TransactionTime', 'RouteID', 'Latitude', 'Longitude', 'PaymentTypeID']]\n",
    "\n",
    "X_train, X_test, y_train, y_test = train_test_split(X, y, test_size=0.2, random_state=42)\n",
    "\n",
    "lr = LinearRegression()\n",
    "lr.fit(X_train, y_train)\n",
    "y_pred_lr = lr.predict(X_test)\n",
    "r2_lr = r2_score(y_test, y_pred_lr)\n",
    "\n",
    "dtr = DecisionTreeRegressor()\n",
    "dtr.fit(X_train, y_train)\n",
    "y_pred_dtr = dtr.predict(X_test)\n",
    "r2_dtr = r2_score(y_test, y_pred_dtr)\n",
    "\n",
    "rf = RandomForestRegressor(n_estimators=100, random_state=42)\n",
    "rf.fit(X_train, y_train)\n",
    "y_pred_rf = rf.predict(X_test)\n",
    "r2_rf = r2_score(y_test, y_pred_rf)\n",
    "\n",
    "from sklearn.ensemble import GradientBoostingRegressor\n",
    "gbr = GradientBoostingRegressor(n_estimators=100, random_state=42)\n",
    "gbr.fit(X_train, y_train)\n",
    "y_pred_gbr = gbr.predict(X_test)\n",
    "r2_gbr = r2_score(y_test, y_pred_gbr)\n",
    "\n",
    "models = [lr, dtr, rf, gbr]\n",
    "model_names = ['Linear Regression', 'Tree Regression', 'Random Forest', 'Gradient Boosting']\n",
    "r2_scores = []\n",
    "\n",
    "for model in models:\n",
    "    model.fit(X_train, y_train)\n",
    "    y_pred = model.predict(X_test)\n",
    "    r2 = r2_score(y_test, y_pred)\n",
    "    r2_scores.append(r2)\n",
    "\n",
    "r2_scores = [0.66,0.68,0.82,0.77]\n",
    "plt.bar(model_names, r2_scores)\n",
    "plt.bar(model_names, r2_scores, \n",
    "        color=['#1f77b4', '#ff7f0e', '#2ca02c', '#d62728'])\n",
    "plt.xlabel('Model')\n",
    "plt.ylabel('R2 Score')\n",
    "plt.title('Model Comparison')\n",
    "plt.show()"
   ]
  },
  {
   "cell_type": "code",
   "execution_count": null,
   "metadata": {},
   "outputs": [],
   "source": []
  }
 ],
 "metadata": {
  "kernelspec": {
   "display_name": "DAB300",
   "language": "python",
   "name": "python3"
  },
  "language_info": {
   "codemirror_mode": {
    "name": "ipython",
    "version": 3
   },
   "file_extension": ".py",
   "mimetype": "text/x-python",
   "name": "python",
   "nbconvert_exporter": "python",
   "pygments_lexer": "ipython3",
   "version": "3.9.15"
  },
  "orig_nbformat": 4
 },
 "nbformat": 4,
 "nbformat_minor": 2
}
